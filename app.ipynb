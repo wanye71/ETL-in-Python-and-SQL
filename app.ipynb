{
 "cells": [
  {
   "cell_type": "code",
   "execution_count": 21,
   "metadata": {},
   "outputs": [],
   "source": [
    "import pandas as pd"
   ]
  },
  {
   "cell_type": "code",
   "execution_count": 22,
   "metadata": {},
   "outputs": [],
   "source": [
    "data = {\n",
    "    \"id\": [1, 2, 3, 4, 5],\n",
    "    \"product customer purchased\": [\"Widget A\", \"Widget B\", \"Widget A\", \"Widget C\", \"Widget B\"],\n",
    "    \"Name of customer\": [\"John Doe\", \"Jane Smith\", \"Bob Johnson\", \"Susan Brown\", \"Mary Wilson\"],\n",
    "    \"address of customer\": [\"123 Main St\", \"456 Elm St\", \"789 Oak St\", \"234 Pine St\", \"567 Birch St\"],\n",
    "    \"email of customer\": [\"john.doe@email.com\", \"\", \"bob.johnson@email.com\", \"susan.brown@email.com\", \"mary.wilson@email.com\"],\n",
    "    \"phone number of customer\": [\"123-456-7890\", \"987-654-3210\", \"555-123-7890\", \"777-888-9999\", \"111-222-3333\"],\n",
    "    \"time of purchase\": [\"2023-08-10 09:15:00\", \"2023-08-10 10:30:00\", \"2023-08-11 14:45:00\", \"2023-08-11 15:30:00\", \"2023-08-12 11:20:00\"]\n",
    "}\n",
    "\n",
    "df = pd.DataFrame(data)\n"
   ]
  },
  {
   "cell_type": "code",
   "execution_count": 23,
   "metadata": {},
   "outputs": [
    {
     "data": {
      "text/html": [
       "<div>\n",
       "<style scoped>\n",
       "    .dataframe tbody tr th:only-of-type {\n",
       "        vertical-align: middle;\n",
       "    }\n",
       "\n",
       "    .dataframe tbody tr th {\n",
       "        vertical-align: top;\n",
       "    }\n",
       "\n",
       "    .dataframe thead th {\n",
       "        text-align: right;\n",
       "    }\n",
       "</style>\n",
       "<table border=\"1\" class=\"dataframe\">\n",
       "  <thead>\n",
       "    <tr style=\"text-align: right;\">\n",
       "      <th></th>\n",
       "      <th>id</th>\n",
       "      <th>product customer purchased</th>\n",
       "      <th>Name of customer</th>\n",
       "      <th>address of customer</th>\n",
       "      <th>email of customer</th>\n",
       "      <th>phone number of customer</th>\n",
       "      <th>time of purchase</th>\n",
       "    </tr>\n",
       "  </thead>\n",
       "  <tbody>\n",
       "    <tr>\n",
       "      <th>0</th>\n",
       "      <td>1</td>\n",
       "      <td>Widget A</td>\n",
       "      <td>John Doe</td>\n",
       "      <td>123 Main St</td>\n",
       "      <td>john.doe@email.com</td>\n",
       "      <td>123-456-7890</td>\n",
       "      <td>2023-08-10 09:15:00</td>\n",
       "    </tr>\n",
       "    <tr>\n",
       "      <th>1</th>\n",
       "      <td>2</td>\n",
       "      <td>Widget B</td>\n",
       "      <td>Jane Smith</td>\n",
       "      <td>456 Elm St</td>\n",
       "      <td></td>\n",
       "      <td>987-654-3210</td>\n",
       "      <td>2023-08-10 10:30:00</td>\n",
       "    </tr>\n",
       "    <tr>\n",
       "      <th>2</th>\n",
       "      <td>3</td>\n",
       "      <td>Widget A</td>\n",
       "      <td>Bob Johnson</td>\n",
       "      <td>789 Oak St</td>\n",
       "      <td>bob.johnson@email.com</td>\n",
       "      <td>555-123-7890</td>\n",
       "      <td>2023-08-11 14:45:00</td>\n",
       "    </tr>\n",
       "    <tr>\n",
       "      <th>3</th>\n",
       "      <td>4</td>\n",
       "      <td>Widget C</td>\n",
       "      <td>Susan Brown</td>\n",
       "      <td>234 Pine St</td>\n",
       "      <td>susan.brown@email.com</td>\n",
       "      <td>777-888-9999</td>\n",
       "      <td>2023-08-11 15:30:00</td>\n",
       "    </tr>\n",
       "    <tr>\n",
       "      <th>4</th>\n",
       "      <td>5</td>\n",
       "      <td>Widget B</td>\n",
       "      <td>Mary Wilson</td>\n",
       "      <td>567 Birch St</td>\n",
       "      <td>mary.wilson@email.com</td>\n",
       "      <td>111-222-3333</td>\n",
       "      <td>2023-08-12 11:20:00</td>\n",
       "    </tr>\n",
       "  </tbody>\n",
       "</table>\n",
       "</div>"
      ],
      "text/plain": [
       "   id product customer purchased Name of customer address of customer  \\\n",
       "0   1                   Widget A         John Doe         123 Main St   \n",
       "1   2                   Widget B       Jane Smith          456 Elm St   \n",
       "2   3                   Widget A      Bob Johnson          789 Oak St   \n",
       "3   4                   Widget C      Susan Brown         234 Pine St   \n",
       "4   5                   Widget B      Mary Wilson        567 Birch St   \n",
       "\n",
       "       email of customer phone number of customer     time of purchase  \n",
       "0     john.doe@email.com             123-456-7890  2023-08-10 09:15:00  \n",
       "1                                    987-654-3210  2023-08-10 10:30:00  \n",
       "2  bob.johnson@email.com             555-123-7890  2023-08-11 14:45:00  \n",
       "3  susan.brown@email.com             777-888-9999  2023-08-11 15:30:00  \n",
       "4  mary.wilson@email.com             111-222-3333  2023-08-12 11:20:00  "
      ]
     },
     "execution_count": 23,
     "metadata": {},
     "output_type": "execute_result"
    }
   ],
   "source": [
    "df.head()"
   ]
  },
  {
   "cell_type": "code",
   "execution_count": 24,
   "metadata": {},
   "outputs": [
    {
     "data": {
      "text/html": [
       "<div>\n",
       "<style scoped>\n",
       "    .dataframe tbody tr th:only-of-type {\n",
       "        vertical-align: middle;\n",
       "    }\n",
       "\n",
       "    .dataframe tbody tr th {\n",
       "        vertical-align: top;\n",
       "    }\n",
       "\n",
       "    .dataframe thead th {\n",
       "        text-align: right;\n",
       "    }\n",
       "</style>\n",
       "<table border=\"1\" class=\"dataframe\">\n",
       "  <thead>\n",
       "    <tr style=\"text-align: right;\">\n",
       "      <th></th>\n",
       "      <th>id</th>\n",
       "      <th>product customer purchased</th>\n",
       "      <th>Name of customer</th>\n",
       "      <th>address of customer</th>\n",
       "      <th>email of customer</th>\n",
       "      <th>phone number of customer</th>\n",
       "      <th>time of purchase</th>\n",
       "    </tr>\n",
       "  </thead>\n",
       "  <tbody>\n",
       "    <tr>\n",
       "      <th>0</th>\n",
       "      <td>1</td>\n",
       "      <td>Widget A</td>\n",
       "      <td>John Doe</td>\n",
       "      <td>123 Main St</td>\n",
       "      <td>john.doe@email.com</td>\n",
       "      <td>123-456-7890</td>\n",
       "      <td>2023-08-10 09:15:00</td>\n",
       "    </tr>\n",
       "    <tr>\n",
       "      <th>1</th>\n",
       "      <td>2</td>\n",
       "      <td>Widget B</td>\n",
       "      <td>Jane Smith</td>\n",
       "      <td>456 Elm St</td>\n",
       "      <td></td>\n",
       "      <td>987-654-3210</td>\n",
       "      <td>2023-08-10 10:30:00</td>\n",
       "    </tr>\n",
       "    <tr>\n",
       "      <th>2</th>\n",
       "      <td>3</td>\n",
       "      <td>Widget A</td>\n",
       "      <td>Bob Johnson</td>\n",
       "      <td>789 Oak St</td>\n",
       "      <td>bob.johnson@email.com</td>\n",
       "      <td>555-123-7890</td>\n",
       "      <td>2023-08-11 14:45:00</td>\n",
       "    </tr>\n",
       "    <tr>\n",
       "      <th>3</th>\n",
       "      <td>4</td>\n",
       "      <td>Widget C</td>\n",
       "      <td>Susan Brown</td>\n",
       "      <td>234 Pine St</td>\n",
       "      <td>susan.brown@email.com</td>\n",
       "      <td>777-888-9999</td>\n",
       "      <td>2023-08-11 15:30:00</td>\n",
       "    </tr>\n",
       "    <tr>\n",
       "      <th>4</th>\n",
       "      <td>5</td>\n",
       "      <td>Widget B</td>\n",
       "      <td>Mary Wilson</td>\n",
       "      <td>567 Birch St</td>\n",
       "      <td>mary.wilson@email.com</td>\n",
       "      <td>111-222-3333</td>\n",
       "      <td>2023-08-12 11:20:00</td>\n",
       "    </tr>\n",
       "  </tbody>\n",
       "</table>\n",
       "</div>"
      ],
      "text/plain": [
       "   id product customer purchased Name of customer address of customer  \\\n",
       "0   1                   Widget A         John Doe         123 Main St   \n",
       "1   2                   Widget B       Jane Smith          456 Elm St   \n",
       "2   3                   Widget A      Bob Johnson          789 Oak St   \n",
       "3   4                   Widget C      Susan Brown         234 Pine St   \n",
       "4   5                   Widget B      Mary Wilson        567 Birch St   \n",
       "\n",
       "       email of customer phone number of customer     time of purchase  \n",
       "0     john.doe@email.com             123-456-7890  2023-08-10 09:15:00  \n",
       "1                                    987-654-3210  2023-08-10 10:30:00  \n",
       "2  bob.johnson@email.com             555-123-7890  2023-08-11 14:45:00  \n",
       "3  susan.brown@email.com             777-888-9999  2023-08-11 15:30:00  \n",
       "4  mary.wilson@email.com             111-222-3333  2023-08-12 11:20:00  "
      ]
     },
     "execution_count": 24,
     "metadata": {},
     "output_type": "execute_result"
    }
   ],
   "source": [
    "df.tail()"
   ]
  },
  {
   "cell_type": "code",
   "execution_count": 25,
   "metadata": {},
   "outputs": [
    {
     "data": {
      "text/plain": [
       "(5, 7)"
      ]
     },
     "execution_count": 25,
     "metadata": {},
     "output_type": "execute_result"
    }
   ],
   "source": [
    "df.shape"
   ]
  },
  {
   "cell_type": "code",
   "execution_count": 26,
   "metadata": {},
   "outputs": [
    {
     "name": "stdout",
     "output_type": "stream",
     "text": [
      "<class 'pandas.core.frame.DataFrame'>\n",
      "RangeIndex: 5 entries, 0 to 4\n",
      "Data columns (total 7 columns):\n",
      " #   Column                      Non-Null Count  Dtype \n",
      "---  ------                      --------------  ----- \n",
      " 0   id                          5 non-null      int64 \n",
      " 1   product customer purchased  5 non-null      object\n",
      " 2   Name of customer            5 non-null      object\n",
      " 3   address of customer         5 non-null      object\n",
      " 4   email of customer           5 non-null      object\n",
      " 5   phone number of customer    5 non-null      object\n",
      " 6   time of purchase            5 non-null      object\n",
      "dtypes: int64(1), object(6)\n",
      "memory usage: 412.0+ bytes\n"
     ]
    }
   ],
   "source": [
    "df.info()"
   ]
  },
  {
   "cell_type": "code",
   "execution_count": 27,
   "metadata": {},
   "outputs": [
    {
     "data": {
      "text/plain": [
       "0    False\n",
       "1    False\n",
       "2    False\n",
       "3    False\n",
       "4    False\n",
       "dtype: bool"
      ]
     },
     "execution_count": 27,
     "metadata": {},
     "output_type": "execute_result"
    }
   ],
   "source": [
    "df.duplicated()"
   ]
  },
  {
   "cell_type": "code",
   "execution_count": null,
   "metadata": {},
   "outputs": [],
   "source": []
  }
 ],
 "metadata": {
  "kernelspec": {
   "display_name": "Python 3",
   "language": "python",
   "name": "python3"
  },
  "language_info": {
   "codemirror_mode": {
    "name": "ipython",
    "version": 3
   },
   "file_extension": ".py",
   "mimetype": "text/x-python",
   "name": "python",
   "nbconvert_exporter": "python",
   "pygments_lexer": "ipython3",
   "version": "3.12.1"
  }
 },
 "nbformat": 4,
 "nbformat_minor": 2
}
